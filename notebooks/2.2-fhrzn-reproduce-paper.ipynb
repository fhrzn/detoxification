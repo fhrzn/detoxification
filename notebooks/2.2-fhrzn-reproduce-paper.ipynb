{
 "cells": [
  {
   "cell_type": "code",
   "execution_count": 1,
   "metadata": {},
   "outputs": [
    {
     "name": "stderr",
     "output_type": "stream",
     "text": [
      "[nltk_data] Downloading package stopwords to\n",
      "[nltk_data]     C:\\Users\\fahrizain\\AppData\\Roaming\\nltk_data...\n",
      "[nltk_data]   Package stopwords is already up-to-date!\n",
      "[nltk_data] Downloading package wordnet to\n",
      "[nltk_data]     C:\\Users\\fahrizain\\AppData\\Roaming\\nltk_data...\n",
      "[nltk_data]   Package wordnet is already up-to-date!\n"
     ]
    }
   ],
   "source": [
    "# data manipulation\n",
    "import pandas as pd\n",
    "import numpy as np\n",
    "\n",
    "# visualization\n",
    "import matplotlib.pyplot as plt\n",
    "import seaborn as sns\n",
    "\n",
    "# models, feature extraction, metrics\n",
    "from sklearn.linear_model import LogisticRegression\n",
    "from sklearn.model_selection import train_test_split\n",
    "from sklearn.feature_extraction.text import CountVectorizer\n",
    "from sklearn.metrics import classification_report, confusion_matrix\n",
    "import joblib\n",
    "import random\n",
    "\n",
    "# imbalance learn\n",
    "from imblearn.pipeline import make_pipeline\n",
    "from imblearn.over_sampling import ADASYN, SMOTE, RandomOverSampler, BorderlineSMOTE\n",
    "\n",
    "# pipeline\n",
    "from sklearn.pipeline import make_pipeline\n",
    "\n",
    "# data preprocessing\n",
    "import contractions\n",
    "import nltk\n",
    "from nltk.tokenize import word_tokenize, sent_tokenize\n",
    "from nltk.corpus import stopwords\n",
    "from nltk.stem.wordnet import WordNetLemmatizer\n",
    "nltk.download('stopwords')\n",
    "nltk.download('wordnet')\n",
    "\n",
    "# string\n",
    "import re\n",
    "import string\n",
    "\n",
    "# warning\n",
    "import warnings\n",
    "warnings.filterwarnings('ignore')\n",
    "\n",
    "# set stopwords\n",
    "stopwords = set(stopwords.words('english'))\n"
   ]
  },
  {
   "cell_type": "code",
   "execution_count": 2,
   "metadata": {},
   "outputs": [],
   "source": [
    "def fix_contractions(text):\n",
    "    fix = text\n",
    "    try:\n",
    "        fix = contractions.fix(text)\n",
    "    except:\n",
    "        pass\n",
    "    return fix\n",
    "\n",
    "def rm_link(text):\n",
    "    return re.sub(r'https?://\\S+|www\\.\\S+', '', text)\n",
    "    # return re.sub(r\"https?://\\S+|www\\.\\S+\", \"\", text)\n",
    "\n",
    "def rm_punct(text):\n",
    "    return text.translate(str.maketrans('', '', string.punctuation))\n",
    "\n",
    "# handle case like \"shut up okay?Im only 10 years old\"\n",
    "# become \"shut up okay Im only 10 years old\"\n",
    "def rm_punct2(text):\n",
    "    return re.sub(r'[\\!\\\"\\#\\$\\%\\&\\'\\(\\)\\*\\+\\,\\-\\.\\/\\:\\;\\<\\=\\>\\?\\@\\[\\\\\\]\\^\\_\\`\\{\\|\\}\\~]', ' ', text)\n",
    "\n",
    "def rm_number(text):\n",
    "    return re.sub(r'\\d+', '', text)\n",
    "\n",
    "def rm_whitespaces(text):\n",
    "    return re.sub(r' +', ' '/, text)\n",
    "\n",
    "def rm_nonascii(text):\n",
    "    return re.sub(r'[^\\x00-\\x7f]', r'', text)\n",
    "\n",
    "def rm_emoji(text):\n",
    "    emojis = re.compile(\n",
    "        '['\n",
    "        u'\\U0001F600-\\U0001F64F'  # emoticons\n",
    "        u'\\U0001F300-\\U0001F5FF'  # symbols & pictographs\n",
    "        u'\\U0001F680-\\U0001F6FF'  # transport & map symbols\n",
    "        u'\\U0001F1E0-\\U0001F1FF'  # flags (iOS)\n",
    "        u'\\U00002702-\\U000027B0'\n",
    "        u'\\U000024C2-\\U0001F251'\n",
    "        ']+',\n",
    "        flags=re.UNICODE\n",
    "    )\n",
    "    return emojis.sub(r'', text)\n",
    "\n",
    "def spell_correction(text):\n",
    "    return re.sub(r'(.)\\1+', r'\\1\\1', text)\n",
    "\n",
    "def clean_pipeline(text):\n",
    "    fix_contr = fix_contractions(text)\n",
    "    no_link = rm_link(fix_contr)\n",
    "    no_punct = rm_punct2(no_link)\n",
    "    # no_number = rm_number(no_punct)\n",
    "    no_whitespaces = rm_whitespaces(no_punct)\n",
    "    no_nonasci = rm_nonascii(no_whitespaces)\n",
    "    no_emoji = rm_emoji(no_nonasci)\n",
    "    spell_corrected = spell_correction(no_emoji)\n",
    "    return spell_corrected"
   ]
  },
  {
   "cell_type": "code",
   "execution_count": 3,
   "metadata": {},
   "outputs": [],
   "source": [
    "def tokenize(text):\n",
    "    return word_tokenize(text)\n",
    "\n",
    "def rm_stopwords(text):\n",
    "    return [i for i in text if i not in stopwords]\n",
    "\n",
    "def postag(text):\n",
    "    # not implemented yet\n",
    "    return\n",
    "\n",
    "def lemmatize(text):\n",
    "    lemmatizer = WordNetLemmatizer()    \n",
    "    lemmas = [lemmatizer.lemmatize(t) for t in text]\n",
    "    # make sure lemmas does not contains sotpwords\n",
    "    return rm_stopwords(lemmas)\n",
    "\n",
    "def preprocess_pipeline(text):\n",
    "    tokens = tokenize(text)\n",
    "    no_stopwords = rm_stopwords(tokens)\n",
    "    lemmas = lemmatize(no_stopwords)\n",
    "    return ' '.join(lemmas)"
   ]
  },
  {
   "cell_type": "markdown",
   "metadata": {},
   "source": [
    "## Scratch Implementation"
   ]
  },
  {
   "cell_type": "code",
   "execution_count": 4,
   "metadata": {},
   "outputs": [
    {
     "data": {
      "text/plain": [
       "0    209283\n",
       "1     14266\n",
       "Name: is_toxic, dtype: int64"
      ]
     },
     "execution_count": 4,
     "metadata": {},
     "output_type": "execute_result"
    }
   ],
   "source": [
    "train = pd.read_csv('../data/raw/jigsaw-multilingual/jigsaw-toxic-comment-train.csv')\n",
    "\n",
    "def is_toxic(row):    \n",
    "    return 1 if row.sum() > 1 else -1 if row.sum() < 0 else 0\n",
    "\n",
    "train['is_toxic'] = train.iloc[:, 2:].apply(is_toxic, axis=1)\n",
    "train['is_toxic'].value_counts()"
   ]
  },
  {
   "cell_type": "code",
   "execution_count": 5,
   "metadata": {},
   "outputs": [],
   "source": [
    "train_norm = train[train['is_toxic'] == 0]\n",
    "comment_norm = train_norm.comment_text.tolist()\n",
    "\n",
    "train_tox = train[train['is_toxic'] == 1]\n",
    "comment_tox = train_tox.comment_text.tolist()"
   ]
  },
  {
   "cell_type": "code",
   "execution_count": 6,
   "metadata": {},
   "outputs": [],
   "source": [
    "sent_norm_comments = []\n",
    "sent_tox_comments = []\n",
    "\n",
    "for cmnt in comment_norm:\n",
    "    sentences = sent_tokenize(cmnt)\n",
    "    sent_norm_comments.extend(sentences)\n",
    "    # sent_comments.append(cmnt)\n",
    "\n",
    "for cmnt in comment_tox:\n",
    "    sentences = sent_tokenize(cmnt)\n",
    "    sent_tox_comments.extend(sentences)"
   ]
  },
  {
   "cell_type": "code",
   "execution_count": 13,
   "metadata": {},
   "outputs": [],
   "source": [
    "for norm in sent_norm_comments:    \n",
    "    if '0bama' in norm:\n",
    "        print(norm)\n",
    "        break"
   ]
  },
  {
   "cell_type": "code",
   "execution_count": 14,
   "metadata": {},
   "outputs": [],
   "source": [
    "for tox in sent_tox_comments:\n",
    "    if '0bama' in tox:\n",
    "        print(tox)\n",
    "        break"
   ]
  },
  {
   "cell_type": "code",
   "execution_count": 15,
   "metadata": {},
   "outputs": [],
   "source": [
    "token_norm = list(map(lambda x: len(x.split()), sent_norm_comments))\n",
    "token_tox = list(map(lambda x: len(x.split()), sent_tox_comments))"
   ]
  },
  {
   "cell_type": "code",
   "execution_count": 16,
   "metadata": {},
   "outputs": [
    {
     "name": "stdout",
     "output_type": "stream",
     "text": [
      "1\n",
      "1411\n",
      "15.65461208547814\n"
     ]
    },
    {
     "data": {
      "image/png": "[encoded data removed]",
      "text/plain": [
       "<Figure size 432x288 with 1 Axes>"
      ]
     },
     "metadata": {
      "needs_background": "light"
     },
     "output_type": "display_data"
    }
   ],
   "source": [
    "print(min(token_norm))\n",
    "print(max(token_norm))\n",
    "print(sum(token_norm) / len(token_norm))\n",
    "\n",
    "sns.distplot(token_norm, kde=False)\n",
    "plt.show()"
   ]
  },
  {
   "cell_type": "code",
   "execution_count": 17,
   "metadata": {},
   "outputs": [
    {
     "name": "stdout",
     "output_type": "stream",
     "text": [
      "1\n",
      "2321\n",
      "11.477516059957173\n"
     ]
    },
    {
     "data": {
      "image/png": "[encoded data removed]",
      "text/plain": [
       "<Figure size 432x288 with 1 Axes>"
      ]
     },
     "metadata": {
      "needs_background": "light"
     },
     "output_type": "display_data"
    }
   ],
   "source": [
    "print(min(token_tox))\n",
    "print(max(token_tox))\n",
    "print(sum(token_tox) / len(token_tox))\n",
    "\n",
    "sns.distplot(token_tox, kde=False)\n",
    "plt.show()"
   ]
  },
  {
   "cell_type": "code",
   "execution_count": 36,
   "metadata": {},
   "outputs": [
    {
     "data": {
      "text/plain": [
       "6.0"
      ]
     },
     "execution_count": 36,
     "metadata": {},
     "output_type": "execute_result"
    }
   ],
   "source": [
    "np.quantile(token_tox, .45)"
   ]
  },
  {
   "cell_type": "code",
   "execution_count": 18,
   "metadata": {},
   "outputs": [
    {
     "name": "stdout",
     "output_type": "stream",
     "text": [
      "COCKSUCKER BEFORE YOU PISS AROUND ON MY WORK\n",
      "You are gay or antisemmitian?\n",
      "Archangel WHite Tiger\n",
      "\n",
      "Meow!\n",
      "Greetingshhh!\n",
      "Uh, there are two ways, why you do erased my comment about WW2, that holocaust was brutally slaying of Jews and not gays/Gypsys/Slavs/anyone...\n",
      "\n",
      "1 - If you are anti-semitian, than shave your head bald and go to the skinhead meetings!\n",
      "2 - If you doubt words of the Bible, that homosexuality is a deadly sin, make a pentagram tatoo on your forehead go to the satanistic masses with your gay pals!\n",
      "3 - First and last warning, you fucking gay - I won't appreciate if any more nazi shwain would write in my page!\n",
      "I don't wish to talk to you anymore!\n",
      "Beware of the Dark Side!\n",
      "FUCK YOUR FILTHY MOTHER IN THE ASS, DRY!\n"
     ]
    }
   ],
   "source": [
    "for t in sent_tox_comments[:10]:\n",
    "    print(t)"
   ]
  },
  {
   "cell_type": "code",
   "execution_count": 19,
   "metadata": {},
   "outputs": [],
   "source": [
    "sent_norm_proc = []\n",
    "sent_tox_proc = []\n",
    "\n",
    "for sent in sent_norm_comments:\n",
    "    clean = clean_pipeline(sent)\n",
    "    proc = preprocess_pipeline(clean)\n",
    "    \n",
    "    sent_norm_proc.append(proc)\n",
    "\n",
    "for sent in sent_tox_comments:\n",
    "    clean = clean_pipeline(sent)\n",
    "    proc = preprocess_pipeline(clean)\n",
    "\n",
    "    sent_tox_proc.append(proc)"
   ]
  },
  {
   "cell_type": "code",
   "execution_count": 22,
   "metadata": {},
   "outputs": [
    {
     "data": {
      "text/plain": [
       "(908396, 57441, 965837)"
      ]
     },
     "execution_count": 22,
     "metadata": {},
     "output_type": "execute_result"
    }
   ],
   "source": [
    "len(sent_norm_proc), len(sent_tox_proc), len(sent_norm_proc+sent_tox_proc)"
   ]
  },
  {
   "cell_type": "code",
   "execution_count": 21,
   "metadata": {},
   "outputs": [
    {
     "data": {
      "text/plain": [
       "(57441, 57441)"
      ]
     },
     "execution_count": 21,
     "metadata": {},
     "output_type": "execute_result"
    }
   ],
   "source": [
    "# index_norm = np.random.choice(list(range(len(sent_norm_proc))), size=len(sent_tox_proc))\n",
    "sent_norm_proc_balance = random.sample(sent_norm_proc, len(sent_tox_proc))\n",
    "len(sent_norm_proc_balance), len(sent_tox_proc)"
   ]
  },
  {
   "cell_type": "code",
   "execution_count": 23,
   "metadata": {},
   "outputs": [],
   "source": [
    "X_train = sent_norm_proc + sent_tox_proc\n",
    "y_train = [0] * len(sent_norm_proc) + [1] * len(sent_tox_proc)"
   ]
  },
  {
   "cell_type": "code",
   "execution_count": 37,
   "metadata": {},
   "outputs": [],
   "source": [
    "cv = CountVectorizer(min_df=6)\n",
    "X_train_vec = cv.fit_transform(X_train)"
   ]
  },
  {
   "cell_type": "code",
   "execution_count": 39,
   "metadata": {},
   "outputs": [],
   "source": [
    "sampler = SMOTE(random_state=42, sampling_strategy=.5)\n",
    "X_resample, y_resample = sampler.fit_resample(X_train_vec, y_train)"
   ]
  },
  {
   "cell_type": "code",
   "execution_count": 36,
   "metadata": {},
   "outputs": [
    {
     "data": {
      "text/plain": [
       "LogisticRegression(max_iter=1000, random_state=42)"
      ]
     },
     "execution_count": 36,
     "metadata": {},
     "output_type": "execute_result"
    }
   ],
   "source": [
    "lr = LogisticRegression(random_state=42, max_iter=1000)\n",
    "lr.fit(X_train_vec, y_train)\n",
    "## if using sampling meth\n",
    "# \n",
    "# \n",
    "# \n",
    "# od\n",
    "# lr.fit(X_resample, y_resample)"
   ]
  },
  {
   "cell_type": "code",
   "execution_count": 37,
   "metadata": {},
   "outputs": [
    {
     "ename": "NameError",
     "evalue": "name 'X_resample' is not defined",
     "output_type": "error",
     "traceback": [
      "\u001b[1;31m---------------------------------------------------------------------------\u001b[0m",
      "\u001b[1;31mNameError\u001b[0m                                 Traceback (most recent call last)",
      "\u001b[1;32m<ipython-input-37-04254e427c63>\u001b[0m in \u001b[0;36m<module>\u001b[1;34m\u001b[0m\n\u001b[1;32m----> 1\u001b[1;33m \u001b[0mlr\u001b[0m\u001b[1;33m.\u001b[0m\u001b[0mcoef_\u001b[0m\u001b[1;33m.\u001b[0m\u001b[0mshape\u001b[0m\u001b[1;33m,\u001b[0m \u001b[0mX_resample\u001b[0m\u001b[1;33m.\u001b[0m\u001b[0mshape\u001b[0m\u001b[1;33m\u001b[0m\u001b[1;33m\u001b[0m\u001b[0m\n\u001b[0m",
      "\u001b[1;31mNameError\u001b[0m: name 'X_resample' is not defined"
     ]
    }
   ],
   "source": [
    "lr.coef_.shape, X_resample.shape"
   ]
  },
  {
   "cell_type": "code",
   "execution_count": 38,
   "metadata": {},
   "outputs": [
    {
     "data": {
      "text/html": [
       "<div>\n",
       "<style scoped>\n",
       "    .dataframe tbody tr th:only-of-type {\n",
       "        vertical-align: middle;\n",
       "    }\n",
       "\n",
       "    .dataframe tbody tr th {\n",
       "        vertical-align: top;\n",
       "    }\n",
       "\n",
       "    .dataframe thead th {\n",
       "        text-align: right;\n",
       "    }\n",
       "</style>\n",
       "<table border=\"1\" class=\"dataframe\">\n",
       "  <thead>\n",
       "    <tr style=\"text-align: right;\">\n",
       "      <th></th>\n",
       "      <th>weight</th>\n",
       "      <th>occurence</th>\n",
       "    </tr>\n",
       "  </thead>\n",
       "  <tbody>\n",
       "    <tr>\n",
       "      <th>oxymoron83</th>\n",
       "      <td>6.388438</td>\n",
       "      <td>176.0</td>\n",
       "    </tr>\n",
       "    <tr>\n",
       "      <th>bunksteve</th>\n",
       "      <td>6.337069</td>\n",
       "      <td>278.0</td>\n",
       "    </tr>\n",
       "    <tr>\n",
       "      <th>derka</th>\n",
       "      <td>5.599605</td>\n",
       "      <td>141.0</td>\n",
       "    </tr>\n",
       "    <tr>\n",
       "      <th>motherfucker</th>\n",
       "      <td>5.060153</td>\n",
       "      <td>619.0</td>\n",
       "    </tr>\n",
       "    <tr>\n",
       "      <th>fuck</th>\n",
       "      <td>4.676083</td>\n",
       "      <td>16619.0</td>\n",
       "    </tr>\n",
       "    <tr>\n",
       "      <th>...</th>\n",
       "      <td>...</td>\n",
       "      <td>...</td>\n",
       "    </tr>\n",
       "    <tr>\n",
       "      <th>gov</th>\n",
       "      <td>0.200298</td>\n",
       "      <td>162.0</td>\n",
       "    </tr>\n",
       "    <tr>\n",
       "      <th>yelp</th>\n",
       "      <td>0.200179</td>\n",
       "      <td>6.0</td>\n",
       "    </tr>\n",
       "    <tr>\n",
       "      <th>junker</th>\n",
       "      <td>0.200159</td>\n",
       "      <td>5.0</td>\n",
       "    </tr>\n",
       "    <tr>\n",
       "      <th>thwart</th>\n",
       "      <td>0.200015</td>\n",
       "      <td>22.0</td>\n",
       "    </tr>\n",
       "    <tr>\n",
       "      <th>deem</th>\n",
       "      <td>0.200002</td>\n",
       "      <td>88.0</td>\n",
       "    </tr>\n",
       "  </tbody>\n",
       "</table>\n",
       "<p>13450 rows × 2 columns</p>\n",
       "</div>"
      ],
      "text/plain": [
       "                weight  occurence\n",
       "oxymoron83    6.388438      176.0\n",
       "bunksteve     6.337069      278.0\n",
       "derka         5.599605      141.0\n",
       "motherfucker  5.060153      619.0\n",
       "fuck          4.676083    16619.0\n",
       "...                ...        ...\n",
       "gov           0.200298      162.0\n",
       "yelp          0.200179        6.0\n",
       "junker        0.200159        5.0\n",
       "thwart        0.200015       22.0\n",
       "deem          0.200002       88.0\n",
       "\n",
       "[13450 rows x 2 columns]"
      ]
     },
     "execution_count": 38,
     "metadata": {},
     "output_type": "execute_result"
    }
   ],
   "source": [
    "woc = np.sum(X_train_vec, axis=0)\n",
    "weight = lr.coef_\n",
    "\n",
    "df_weights = pd.DataFrame(np.hstack((weight.T, woc.T)), index=cv.get_feature_names(), columns=['weight', 'occurence'])\n",
    "\n",
    "toxic_words = df_weights[df_weights['weight'] >= 0.2]\n",
    "toxic_words.sort_values('weight', ascending=False)"
   ]
  },
  {
   "cell_type": "code",
   "execution_count": 51,
   "metadata": {},
   "outputs": [
    {
     "data": {
      "text/plain": [
       "False"
      ]
     },
     "execution_count": 51,
     "metadata": {},
     "output_type": "execute_result"
    }
   ],
   "source": [
    "'0bama' in cv.get_feature_names()"
   ]
  },
  {
   "cell_type": "code",
   "execution_count": 49,
   "metadata": {},
   "outputs": [
    {
     "data": {
      "text/html": [
       "<div>\n",
       "<style scoped>\n",
       "    .dataframe tbody tr th:only-of-type {\n",
       "        vertical-align: middle;\n",
       "    }\n",
       "\n",
       "    .dataframe tbody tr th {\n",
       "        vertical-align: top;\n",
       "    }\n",
       "\n",
       "    .dataframe thead th {\n",
       "        text-align: right;\n",
       "    }\n",
       "</style>\n",
       "<table border=\"1\" class=\"dataframe\">\n",
       "  <thead>\n",
       "    <tr style=\"text-align: right;\">\n",
       "      <th></th>\n",
       "      <th>weight</th>\n",
       "      <th>occurence</th>\n",
       "    </tr>\n",
       "  </thead>\n",
       "  <tbody>\n",
       "  </tbody>\n",
       "</table>\n",
       "</div>"
      ],
      "text/plain": [
       "Empty DataFrame\n",
       "Columns: [weight, occurence]\n",
       "Index: []"
      ]
     },
     "execution_count": 49,
     "metadata": {},
     "output_type": "execute_result"
    }
   ],
   "source": [
    "df_weights[df_weights.index.str.lower() == '0bama']"
   ]
  },
  {
   "cell_type": "code",
   "execution_count": 39,
   "metadata": {},
   "outputs": [],
   "source": [
    "toxic_words.reset_index(inplace=True)\n",
    "toxic_words.rename(columns={'index': 'token'}, inplace=True)"
   ]
  },
  {
   "cell_type": "code",
   "execution_count": 40,
   "metadata": {},
   "outputs": [],
   "source": [
    "toxic_words.to_csv('../data/processed/toxvocab_jigsaw_keep_number.csv', index=False)"
   ]
  },
  {
   "cell_type": "markdown",
   "metadata": {},
   "source": [
    "## Dataset from Paper"
   ]
  },
  {
   "cell_type": "code",
   "execution_count": 41,
   "metadata": {},
   "outputs": [],
   "source": [
    "train_norm = open('../data/raw/jigsaw-multilingual/train_normal.txt').readlines()\n",
    "train_tox = open('../data/raw/jigsaw-multilingual/train_toxic.txt').readlines()"
   ]
  },
  {
   "cell_type": "code",
   "execution_count": 42,
   "metadata": {},
   "outputs": [
    {
     "data": {
      "text/plain": [
       "(135390, 135390, 270780)"
      ]
     },
     "execution_count": 42,
     "metadata": {},
     "output_type": "execute_result"
    }
   ],
   "source": [
    "len(train_norm), len(train_tox), len(train_norm + train_tox)"
   ]
  },
  {
   "cell_type": "code",
   "execution_count": 108,
   "metadata": {},
   "outputs": [],
   "source": [
    "X_train = train_tox + train_norm\n",
    "y_train = [1] * len(train_tox) + [0] * len(train_norm)"
   ]
  },
  {
   "cell_type": "code",
   "execution_count": 109,
   "metadata": {},
   "outputs": [
    {
     "data": {
      "text/plain": [
       "LogisticRegression(max_iter=1000, random_state=42)"
      ]
     },
     "execution_count": 109,
     "metadata": {},
     "output_type": "execute_result"
    }
   ],
   "source": [
    "cv = CountVectorizer()\n",
    "X_train_vec = cv.fit_transform(X_train)\n",
    "\n",
    "lr = LogisticRegression(random_state=42, max_iter=1000)\n",
    "lr.fit(X_train_vec, y_train)"
   ]
  },
  {
   "cell_type": "code",
   "execution_count": 110,
   "metadata": {},
   "outputs": [
    {
     "data": {
      "text/html": [
       "<div>\n",
       "<style scoped>\n",
       "    .dataframe tbody tr th:only-of-type {\n",
       "        vertical-align: middle;\n",
       "    }\n",
       "\n",
       "    .dataframe tbody tr th {\n",
       "        vertical-align: top;\n",
       "    }\n",
       "\n",
       "    .dataframe thead th {\n",
       "        text-align: right;\n",
       "    }\n",
       "</style>\n",
       "<table border=\"1\" class=\"dataframe\">\n",
       "  <thead>\n",
       "    <tr style=\"text-align: right;\">\n",
       "      <th></th>\n",
       "      <th>weight</th>\n",
       "      <th>occurence</th>\n",
       "    </tr>\n",
       "  </thead>\n",
       "  <tbody>\n",
       "    <tr>\n",
       "      <th>stupid</th>\n",
       "      <td>8.982072</td>\n",
       "      <td>12285.0</td>\n",
       "    </tr>\n",
       "    <tr>\n",
       "      <th>idiots</th>\n",
       "      <td>8.937098</td>\n",
       "      <td>3156.0</td>\n",
       "    </tr>\n",
       "    <tr>\n",
       "      <th>idiot</th>\n",
       "      <td>8.849322</td>\n",
       "      <td>4518.0</td>\n",
       "    </tr>\n",
       "    <tr>\n",
       "      <th>idiotic</th>\n",
       "      <td>8.314623</td>\n",
       "      <td>1175.0</td>\n",
       "    </tr>\n",
       "    <tr>\n",
       "      <th>stupidity</th>\n",
       "      <td>8.268952</td>\n",
       "      <td>2629.0</td>\n",
       "    </tr>\n",
       "    <tr>\n",
       "      <th>...</th>\n",
       "      <td>...</td>\n",
       "      <td>...</td>\n",
       "    </tr>\n",
       "    <tr>\n",
       "      <th>pisshead</th>\n",
       "      <td>0.200051</td>\n",
       "      <td>1.0</td>\n",
       "    </tr>\n",
       "    <tr>\n",
       "      <th>cockup</th>\n",
       "      <td>0.200051</td>\n",
       "      <td>1.0</td>\n",
       "    </tr>\n",
       "    <tr>\n",
       "      <th>franco</th>\n",
       "      <td>0.200031</td>\n",
       "      <td>5.0</td>\n",
       "    </tr>\n",
       "    <tr>\n",
       "      <th>manis</th>\n",
       "      <td>0.200025</td>\n",
       "      <td>2.0</td>\n",
       "    </tr>\n",
       "    <tr>\n",
       "      <th>protestations</th>\n",
       "      <td>0.200006</td>\n",
       "      <td>2.0</td>\n",
       "    </tr>\n",
       "  </tbody>\n",
       "</table>\n",
       "<p>11616 rows × 2 columns</p>\n",
       "</div>"
      ],
      "text/plain": [
       "                 weight  occurence\n",
       "stupid         8.982072    12285.0\n",
       "idiots         8.937098     3156.0\n",
       "idiot          8.849322     4518.0\n",
       "idiotic        8.314623     1175.0\n",
       "stupidity      8.268952     2629.0\n",
       "...                 ...        ...\n",
       "pisshead       0.200051        1.0\n",
       "cockup         0.200051        1.0\n",
       "franco         0.200031        5.0\n",
       "manis          0.200025        2.0\n",
       "protestations  0.200006        2.0\n",
       "\n",
       "[11616 rows x 2 columns]"
      ]
     },
     "execution_count": 110,
     "metadata": {},
     "output_type": "execute_result"
    }
   ],
   "source": [
    "woc = np.sum(X_train_vec, axis=0)\n",
    "weight = lr.coef_\n",
    "\n",
    "df_weights = pd.DataFrame(np.hstack((weight.T, woc.T)), index=cv.get_feature_names(), columns=['weight', 'occurence'])\n",
    "\n",
    "toxic_words = df_weights[df_weights['weight'] >= 0.2]\n",
    "toxic_words.sort_values('weight', ascending=False)"
   ]
  },
  {
   "cell_type": "code",
   "execution_count": 111,
   "metadata": {},
   "outputs": [],
   "source": [
    "toxic_words.reset_index(inplace=True)\n",
    "toxic_words.rename(columns={'index': 'token'}, inplace=True)"
   ]
  },
  {
   "cell_type": "code",
   "execution_count": 112,
   "metadata": {},
   "outputs": [],
   "source": [
    "toxic_words.to_csv('../data/processed/toxvocab_reproduce.csv', index=False)"
   ]
  },
  {
   "cell_type": "markdown",
   "metadata": {},
   "source": [
    "## Output Comparison"
   ]
  },
  {
   "cell_type": "code",
   "execution_count": 43,
   "metadata": {},
   "outputs": [
    {
     "data": {
      "text/plain": [
       "(10110, 11616, 13002, 9675, 13450)"
      ]
     },
     "execution_count": 43,
     "metadata": {},
     "output_type": "execute_result"
    }
   ],
   "source": [
    "vocab_scratch = pd.read_csv('../data/processed/toxvocab_scratch.csv')\n",
    "vocab_reprod = pd.read_csv('../data/processed/toxvocab_reproduce.csv')\n",
    "vocab_jigsaw = pd.read_csv('../data/processed/toxvocab_jigsaw_1st_multiling.csv')\n",
    "vocab_balanced = pd.read_csv('../data/processed/toxvocab_balanced.csv')\n",
    "vocab_jigsaw_number = pd.read_csv('../data/processed/toxvocab_jigsaw_keep_number.csv')\n",
    "\n",
    "len(vocab_scratch), len(vocab_reprod), len(vocab_jigsaw), len(vocab_balanced), len(vocab_jigsaw_number)"
   ]
  },
  {
   "cell_type": "code",
   "execution_count": 21,
   "metadata": {},
   "outputs": [
    {
     "data": {
      "text/html": [
       "<div>\n",
       "<style scoped>\n",
       "    .dataframe tbody tr th:only-of-type {\n",
       "        vertical-align: middle;\n",
       "    }\n",
       "\n",
       "    .dataframe tbody tr th {\n",
       "        vertical-align: top;\n",
       "    }\n",
       "\n",
       "    .dataframe thead th {\n",
       "        text-align: right;\n",
       "    }\n",
       "</style>\n",
       "<table border=\"1\" class=\"dataframe\">\n",
       "  <thead>\n",
       "    <tr style=\"text-align: right;\">\n",
       "      <th></th>\n",
       "      <th>token</th>\n",
       "      <th>weight</th>\n",
       "      <th>occurence</th>\n",
       "    </tr>\n",
       "  </thead>\n",
       "  <tbody>\n",
       "    <tr>\n",
       "      <th>5460</th>\n",
       "      <td>jerks</td>\n",
       "      <td>6.264545</td>\n",
       "      <td>320.0</td>\n",
       "    </tr>\n",
       "    <tr>\n",
       "      <th>7439</th>\n",
       "      <td>parasites</td>\n",
       "      <td>5.805062</td>\n",
       "      <td>260.0</td>\n",
       "    </tr>\n",
       "    <tr>\n",
       "      <th>5066</th>\n",
       "      <td>imbeciles</td>\n",
       "      <td>5.782384</td>\n",
       "      <td>148.0</td>\n",
       "    </tr>\n",
       "    <tr>\n",
       "      <th>6104</th>\n",
       "      <td>lunatics</td>\n",
       "      <td>5.674987</td>\n",
       "      <td>237.0</td>\n",
       "    </tr>\n",
       "    <tr>\n",
       "      <th>9316</th>\n",
       "      <td>silly</td>\n",
       "      <td>5.547435</td>\n",
       "      <td>1519.0</td>\n",
       "    </tr>\n",
       "    <tr>\n",
       "      <th>...</th>\n",
       "      <td>...</td>\n",
       "      <td>...</td>\n",
       "      <td>...</td>\n",
       "    </tr>\n",
       "    <tr>\n",
       "      <th>4431</th>\n",
       "      <td>gupthas</td>\n",
       "      <td>0.200178</td>\n",
       "      <td>1.0</td>\n",
       "    </tr>\n",
       "    <tr>\n",
       "      <th>6247</th>\n",
       "      <td>margret</td>\n",
       "      <td>0.200129</td>\n",
       "      <td>1.0</td>\n",
       "    </tr>\n",
       "    <tr>\n",
       "      <th>3889</th>\n",
       "      <td>franco</td>\n",
       "      <td>0.200031</td>\n",
       "      <td>5.0</td>\n",
       "    </tr>\n",
       "    <tr>\n",
       "      <th>6223</th>\n",
       "      <td>manis</td>\n",
       "      <td>0.200025</td>\n",
       "      <td>2.0</td>\n",
       "    </tr>\n",
       "    <tr>\n",
       "      <th>8075</th>\n",
       "      <td>protestations</td>\n",
       "      <td>0.200006</td>\n",
       "      <td>2.0</td>\n",
       "    </tr>\n",
       "  </tbody>\n",
       "</table>\n",
       "<p>9358 rows × 3 columns</p>\n",
       "</div>"
      ],
      "text/plain": [
       "              token    weight  occurence\n",
       "5460          jerks  6.264545      320.0\n",
       "7439      parasites  5.805062      260.0\n",
       "5066      imbeciles  5.782384      148.0\n",
       "6104       lunatics  5.674987      237.0\n",
       "9316          silly  5.547435     1519.0\n",
       "...             ...       ...        ...\n",
       "4431        gupthas  0.200178        1.0\n",
       "6247        margret  0.200129        1.0\n",
       "3889         franco  0.200031        5.0\n",
       "6223          manis  0.200025        2.0\n",
       "8075  protestations  0.200006        2.0\n",
       "\n",
       "[9358 rows x 3 columns]"
      ]
     },
     "execution_count": 21,
     "metadata": {},
     "output_type": "execute_result"
    }
   ],
   "source": [
    "# vocab reproduce that is not exist in vocab scratch\n",
    "not_in_scratch = vocab_reprod[~vocab_reprod['token'].isin(vocab_scratch['token'].tolist())]\n",
    "not_in_scratch.sort_values(by=['weight'], ascending=False)"
   ]
  },
  {
   "cell_type": "code",
   "execution_count": 22,
   "metadata": {},
   "outputs": [
    {
     "data": {
      "text/html": [
       "<div>\n",
       "<style scoped>\n",
       "    .dataframe tbody tr th:only-of-type {\n",
       "        vertical-align: middle;\n",
       "    }\n",
       "\n",
       "    .dataframe tbody tr th {\n",
       "        vertical-align: top;\n",
       "    }\n",
       "\n",
       "    .dataframe thead th {\n",
       "        text-align: right;\n",
       "    }\n",
       "</style>\n",
       "<table border=\"1\" class=\"dataframe\">\n",
       "  <thead>\n",
       "    <tr style=\"text-align: right;\">\n",
       "      <th></th>\n",
       "      <th>token</th>\n",
       "      <th>weight</th>\n",
       "      <th>occurence</th>\n",
       "    </tr>\n",
       "  </thead>\n",
       "  <tbody>\n",
       "    <tr>\n",
       "      <th>1244</th>\n",
       "      <td>bunksteve</td>\n",
       "      <td>6.321520</td>\n",
       "      <td>278.0</td>\n",
       "    </tr>\n",
       "    <tr>\n",
       "      <th>8674</th>\n",
       "      <td>supertrll</td>\n",
       "      <td>3.793663</td>\n",
       "      <td>152.0</td>\n",
       "    </tr>\n",
       "    <tr>\n",
       "      <th>4887</th>\n",
       "      <td>jschnur</td>\n",
       "      <td>3.569991</td>\n",
       "      <td>15.0</td>\n",
       "    </tr>\n",
       "    <tr>\n",
       "      <th>1523</th>\n",
       "      <td>chocobos</td>\n",
       "      <td>3.478551</td>\n",
       "      <td>120.0</td>\n",
       "    </tr>\n",
       "    <tr>\n",
       "      <th>7694</th>\n",
       "      <td>rvv</td>\n",
       "      <td>3.224125</td>\n",
       "      <td>105.0</td>\n",
       "    </tr>\n",
       "    <tr>\n",
       "      <th>...</th>\n",
       "      <td>...</td>\n",
       "      <td>...</td>\n",
       "      <td>...</td>\n",
       "    </tr>\n",
       "    <tr>\n",
       "      <th>229</th>\n",
       "      <td>alleges</td>\n",
       "      <td>0.200462</td>\n",
       "      <td>18.0</td>\n",
       "    </tr>\n",
       "    <tr>\n",
       "      <th>7972</th>\n",
       "      <td>sharpen</td>\n",
       "      <td>0.200250</td>\n",
       "      <td>6.0</td>\n",
       "    </tr>\n",
       "    <tr>\n",
       "      <th>2066</th>\n",
       "      <td>curl</td>\n",
       "      <td>0.200235</td>\n",
       "      <td>12.0</td>\n",
       "    </tr>\n",
       "    <tr>\n",
       "      <th>9875</th>\n",
       "      <td>wizz</td>\n",
       "      <td>0.200187</td>\n",
       "      <td>3.0</td>\n",
       "    </tr>\n",
       "    <tr>\n",
       "      <th>6236</th>\n",
       "      <td>NaN</td>\n",
       "      <td>0.200101</td>\n",
       "      <td>44.0</td>\n",
       "    </tr>\n",
       "  </tbody>\n",
       "</table>\n",
       "<p>7852 rows × 3 columns</p>\n",
       "</div>"
      ],
      "text/plain": [
       "          token    weight  occurence\n",
       "1244  bunksteve  6.321520      278.0\n",
       "8674  supertrll  3.793663      152.0\n",
       "4887    jschnur  3.569991       15.0\n",
       "1523   chocobos  3.478551      120.0\n",
       "7694        rvv  3.224125      105.0\n",
       "...         ...       ...        ...\n",
       "229     alleges  0.200462       18.0\n",
       "7972    sharpen  0.200250        6.0\n",
       "2066       curl  0.200235       12.0\n",
       "9875       wizz  0.200187        3.0\n",
       "6236        NaN  0.200101       44.0\n",
       "\n",
       "[7852 rows x 3 columns]"
      ]
     },
     "execution_count": 22,
     "metadata": {},
     "output_type": "execute_result"
    }
   ],
   "source": [
    "not_in_reprod = vocab_scratch[~vocab_scratch['token'].isin(vocab_reprod['token'].tolist())]\n",
    "not_in_reprod.sort_values(by=['weight'], ascending=False)"
   ]
  },
  {
   "cell_type": "code",
   "execution_count": 23,
   "metadata": {},
   "outputs": [
    {
     "data": {
      "text/html": [
       "<div>\n",
       "<style scoped>\n",
       "    .dataframe tbody tr th:only-of-type {\n",
       "        vertical-align: middle;\n",
       "    }\n",
       "\n",
       "    .dataframe tbody tr th {\n",
       "        vertical-align: top;\n",
       "    }\n",
       "\n",
       "    .dataframe thead th {\n",
       "        text-align: right;\n",
       "    }\n",
       "</style>\n",
       "<table border=\"1\" class=\"dataframe\">\n",
       "  <thead>\n",
       "    <tr style=\"text-align: right;\">\n",
       "      <th></th>\n",
       "      <th>token</th>\n",
       "      <th>weight</th>\n",
       "      <th>occurence</th>\n",
       "    </tr>\n",
       "  </thead>\n",
       "  <tbody>\n",
       "    <tr>\n",
       "      <th>0</th>\n",
       "      <td>0bama</td>\n",
       "      <td>0.372088</td>\n",
       "      <td>10.0</td>\n",
       "    </tr>\n",
       "    <tr>\n",
       "      <th>1</th>\n",
       "      <td>0bamas</td>\n",
       "      <td>0.225272</td>\n",
       "      <td>1.0</td>\n",
       "    </tr>\n",
       "    <tr>\n",
       "      <th>2</th>\n",
       "      <td>10ins</td>\n",
       "      <td>0.377675</td>\n",
       "      <td>1.0</td>\n",
       "    </tr>\n",
       "    <tr>\n",
       "      <th>3</th>\n",
       "      <td>11year</td>\n",
       "      <td>0.480528</td>\n",
       "      <td>2.0</td>\n",
       "    </tr>\n",
       "    <tr>\n",
       "      <th>4</th>\n",
       "      <td>12yearold</td>\n",
       "      <td>0.631296</td>\n",
       "      <td>3.0</td>\n",
       "    </tr>\n",
       "    <tr>\n",
       "      <th>...</th>\n",
       "      <td>...</td>\n",
       "      <td>...</td>\n",
       "      <td>...</td>\n",
       "    </tr>\n",
       "    <tr>\n",
       "      <th>11611</th>\n",
       "      <td>zt</td>\n",
       "      <td>0.266480</td>\n",
       "      <td>1.0</td>\n",
       "    </tr>\n",
       "    <tr>\n",
       "      <th>11612</th>\n",
       "      <td>zuptas</td>\n",
       "      <td>0.368810</td>\n",
       "      <td>3.0</td>\n",
       "    </tr>\n",
       "    <tr>\n",
       "      <th>11613</th>\n",
       "      <td>zuptoid</td>\n",
       "      <td>0.555190</td>\n",
       "      <td>8.0</td>\n",
       "    </tr>\n",
       "    <tr>\n",
       "      <th>11614</th>\n",
       "      <td>zusman</td>\n",
       "      <td>0.470061</td>\n",
       "      <td>1.0</td>\n",
       "    </tr>\n",
       "    <tr>\n",
       "      <th>11615</th>\n",
       "      <td>zygote</td>\n",
       "      <td>0.465673</td>\n",
       "      <td>6.0</td>\n",
       "    </tr>\n",
       "  </tbody>\n",
       "</table>\n",
       "<p>9189 rows × 3 columns</p>\n",
       "</div>"
      ],
      "text/plain": [
       "           token    weight  occurence\n",
       "0          0bama  0.372088       10.0\n",
       "1         0bamas  0.225272        1.0\n",
       "2          10ins  0.377675        1.0\n",
       "3         11year  0.480528        2.0\n",
       "4      12yearold  0.631296        3.0\n",
       "...          ...       ...        ...\n",
       "11611         zt  0.266480        1.0\n",
       "11612     zuptas  0.368810        3.0\n",
       "11613    zuptoid  0.555190        8.0\n",
       "11614     zusman  0.470061        1.0\n",
       "11615     zygote  0.465673        6.0\n",
       "\n",
       "[9189 rows x 3 columns]"
      ]
     },
     "execution_count": 23,
     "metadata": {},
     "output_type": "execute_result"
    }
   ],
   "source": [
    "not_in_jigsaw = vocab_reprod[~vocab_reprod['token'].isin(vocab_jigsaw['token'].tolist())]\n",
    "not_in_jigsaw"
   ]
  },
  {
   "cell_type": "code",
   "execution_count": 24,
   "metadata": {},
   "outputs": [
    {
     "data": {
      "text/html": [
       "<div>\n",
       "<style scoped>\n",
       "    .dataframe tbody tr th:only-of-type {\n",
       "        vertical-align: middle;\n",
       "    }\n",
       "\n",
       "    .dataframe tbody tr th {\n",
       "        vertical-align: top;\n",
       "    }\n",
       "\n",
       "    .dataframe thead th {\n",
       "        text-align: right;\n",
       "    }\n",
       "</style>\n",
       "<table border=\"1\" class=\"dataframe\">\n",
       "  <thead>\n",
       "    <tr style=\"text-align: right;\">\n",
       "      <th></th>\n",
       "      <th>token</th>\n",
       "      <th>weight</th>\n",
       "      <th>occurence</th>\n",
       "    </tr>\n",
       "  </thead>\n",
       "  <tbody>\n",
       "    <tr>\n",
       "      <th>1</th>\n",
       "      <td>aahh</td>\n",
       "      <td>0.681454</td>\n",
       "      <td>10.0</td>\n",
       "    </tr>\n",
       "    <tr>\n",
       "      <th>3</th>\n",
       "      <td>aall</td>\n",
       "      <td>0.444803</td>\n",
       "      <td>4.0</td>\n",
       "    </tr>\n",
       "    <tr>\n",
       "      <th>5</th>\n",
       "      <td>aannaall</td>\n",
       "      <td>0.496316</td>\n",
       "      <td>1.0</td>\n",
       "    </tr>\n",
       "    <tr>\n",
       "      <th>7</th>\n",
       "      <td>aargh</td>\n",
       "      <td>0.444882</td>\n",
       "      <td>5.0</td>\n",
       "    </tr>\n",
       "    <tr>\n",
       "      <th>9</th>\n",
       "      <td>aarrgg</td>\n",
       "      <td>0.785188</td>\n",
       "      <td>1.0</td>\n",
       "    </tr>\n",
       "    <tr>\n",
       "      <th>...</th>\n",
       "      <td>...</td>\n",
       "      <td>...</td>\n",
       "      <td>...</td>\n",
       "    </tr>\n",
       "    <tr>\n",
       "      <th>12991</th>\n",
       "      <td>zora</td>\n",
       "      <td>0.345131</td>\n",
       "      <td>48.0</td>\n",
       "    </tr>\n",
       "    <tr>\n",
       "      <th>12992</th>\n",
       "      <td>zscarpia</td>\n",
       "      <td>0.500011</td>\n",
       "      <td>4.0</td>\n",
       "    </tr>\n",
       "    <tr>\n",
       "      <th>12996</th>\n",
       "      <td>zulkifli</td>\n",
       "      <td>0.447637</td>\n",
       "      <td>1.0</td>\n",
       "    </tr>\n",
       "    <tr>\n",
       "      <th>12999</th>\n",
       "      <td>zzupupzzuzuz</td>\n",
       "      <td>0.600403</td>\n",
       "      <td>1.0</td>\n",
       "    </tr>\n",
       "    <tr>\n",
       "      <th>13000</th>\n",
       "      <td>zzuzz</td>\n",
       "      <td>1.564723</td>\n",
       "      <td>14.0</td>\n",
       "    </tr>\n",
       "  </tbody>\n",
       "</table>\n",
       "<p>3954 rows × 3 columns</p>\n",
       "</div>"
      ],
      "text/plain": [
       "              token    weight  occurence\n",
       "1              aahh  0.681454       10.0\n",
       "3              aall  0.444803        4.0\n",
       "5          aannaall  0.496316        1.0\n",
       "7             aargh  0.444882        5.0\n",
       "9            aarrgg  0.785188        1.0\n",
       "...             ...       ...        ...\n",
       "12991          zora  0.345131       48.0\n",
       "12992      zscarpia  0.500011        4.0\n",
       "12996      zulkifli  0.447637        1.0\n",
       "12999  zzupupzzuzuz  0.600403        1.0\n",
       "13000         zzuzz  1.564723       14.0\n",
       "\n",
       "[3954 rows x 3 columns]"
      ]
     },
     "execution_count": 24,
     "metadata": {},
     "output_type": "execute_result"
    }
   ],
   "source": [
    "vocab_jigsaw[~vocab_jigsaw['token'].isin(vocab_scratch['token'].tolist())]"
   ]
  },
  {
   "cell_type": "code",
   "execution_count": 25,
   "metadata": {},
   "outputs": [
    {
     "data": {
      "text/html": [
       "<div>\n",
       "<style scoped>\n",
       "    .dataframe tbody tr th:only-of-type {\n",
       "        vertical-align: middle;\n",
       "    }\n",
       "\n",
       "    .dataframe tbody tr th {\n",
       "        vertical-align: top;\n",
       "    }\n",
       "\n",
       "    .dataframe thead th {\n",
       "        text-align: right;\n",
       "    }\n",
       "</style>\n",
       "<table border=\"1\" class=\"dataframe\">\n",
       "  <thead>\n",
       "    <tr style=\"text-align: right;\">\n",
       "      <th></th>\n",
       "      <th>token</th>\n",
       "      <th>weight</th>\n",
       "      <th>occurence</th>\n",
       "    </tr>\n",
       "  </thead>\n",
       "  <tbody>\n",
       "    <tr>\n",
       "      <th>0</th>\n",
       "      <td>0bama</td>\n",
       "      <td>0.372088</td>\n",
       "      <td>10.0</td>\n",
       "    </tr>\n",
       "    <tr>\n",
       "      <th>1</th>\n",
       "      <td>0bamas</td>\n",
       "      <td>0.225272</td>\n",
       "      <td>1.0</td>\n",
       "    </tr>\n",
       "    <tr>\n",
       "      <th>2</th>\n",
       "      <td>10ins</td>\n",
       "      <td>0.377675</td>\n",
       "      <td>1.0</td>\n",
       "    </tr>\n",
       "    <tr>\n",
       "      <th>3</th>\n",
       "      <td>11year</td>\n",
       "      <td>0.480528</td>\n",
       "      <td>2.0</td>\n",
       "    </tr>\n",
       "    <tr>\n",
       "      <th>4</th>\n",
       "      <td>12yearold</td>\n",
       "      <td>0.631296</td>\n",
       "      <td>3.0</td>\n",
       "    </tr>\n",
       "    <tr>\n",
       "      <th>...</th>\n",
       "      <td>...</td>\n",
       "      <td>...</td>\n",
       "      <td>...</td>\n",
       "    </tr>\n",
       "    <tr>\n",
       "      <th>11611</th>\n",
       "      <td>zt</td>\n",
       "      <td>0.266480</td>\n",
       "      <td>1.0</td>\n",
       "    </tr>\n",
       "    <tr>\n",
       "      <th>11612</th>\n",
       "      <td>zuptas</td>\n",
       "      <td>0.368810</td>\n",
       "      <td>3.0</td>\n",
       "    </tr>\n",
       "    <tr>\n",
       "      <th>11613</th>\n",
       "      <td>zuptoid</td>\n",
       "      <td>0.555190</td>\n",
       "      <td>8.0</td>\n",
       "    </tr>\n",
       "    <tr>\n",
       "      <th>11614</th>\n",
       "      <td>zusman</td>\n",
       "      <td>0.470061</td>\n",
       "      <td>1.0</td>\n",
       "    </tr>\n",
       "    <tr>\n",
       "      <th>11615</th>\n",
       "      <td>zygote</td>\n",
       "      <td>0.465673</td>\n",
       "      <td>6.0</td>\n",
       "    </tr>\n",
       "  </tbody>\n",
       "</table>\n",
       "<p>9509 rows × 3 columns</p>\n",
       "</div>"
      ],
      "text/plain": [
       "           token    weight  occurence\n",
       "0          0bama  0.372088       10.0\n",
       "1         0bamas  0.225272        1.0\n",
       "2          10ins  0.377675        1.0\n",
       "3         11year  0.480528        2.0\n",
       "4      12yearold  0.631296        3.0\n",
       "...          ...       ...        ...\n",
       "11611         zt  0.266480        1.0\n",
       "11612     zuptas  0.368810        3.0\n",
       "11613    zuptoid  0.555190        8.0\n",
       "11614     zusman  0.470061        1.0\n",
       "11615     zygote  0.465673        6.0\n",
       "\n",
       "[9509 rows x 3 columns]"
      ]
     },
     "execution_count": 25,
     "metadata": {},
     "output_type": "execute_result"
    }
   ],
   "source": [
    "vocab_reprod[~vocab_reprod['token'].isin(vocab_balanced['token'].tolist())]"
   ]
  },
  {
   "cell_type": "code",
   "execution_count": 44,
   "metadata": {},
   "outputs": [
    {
     "data": {
      "text/html": [
       "<div>\n",
       "<style scoped>\n",
       "    .dataframe tbody tr th:only-of-type {\n",
       "        vertical-align: middle;\n",
       "    }\n",
       "\n",
       "    .dataframe tbody tr th {\n",
       "        vertical-align: top;\n",
       "    }\n",
       "\n",
       "    .dataframe thead th {\n",
       "        text-align: right;\n",
       "    }\n",
       "</style>\n",
       "<table border=\"1\" class=\"dataframe\">\n",
       "  <thead>\n",
       "    <tr style=\"text-align: right;\">\n",
       "      <th></th>\n",
       "      <th>token</th>\n",
       "      <th>weight</th>\n",
       "      <th>occurence</th>\n",
       "    </tr>\n",
       "  </thead>\n",
       "  <tbody>\n",
       "    <tr>\n",
       "      <th>0</th>\n",
       "      <td>0bama</td>\n",
       "      <td>0.372088</td>\n",
       "      <td>10.0</td>\n",
       "    </tr>\n",
       "    <tr>\n",
       "      <th>1</th>\n",
       "      <td>0bamas</td>\n",
       "      <td>0.225272</td>\n",
       "      <td>1.0</td>\n",
       "    </tr>\n",
       "    <tr>\n",
       "      <th>2</th>\n",
       "      <td>10ins</td>\n",
       "      <td>0.377675</td>\n",
       "      <td>1.0</td>\n",
       "    </tr>\n",
       "    <tr>\n",
       "      <th>3</th>\n",
       "      <td>11year</td>\n",
       "      <td>0.480528</td>\n",
       "      <td>2.0</td>\n",
       "    </tr>\n",
       "    <tr>\n",
       "      <th>4</th>\n",
       "      <td>12yearold</td>\n",
       "      <td>0.631296</td>\n",
       "      <td>3.0</td>\n",
       "    </tr>\n",
       "    <tr>\n",
       "      <th>...</th>\n",
       "      <td>...</td>\n",
       "      <td>...</td>\n",
       "      <td>...</td>\n",
       "    </tr>\n",
       "    <tr>\n",
       "      <th>11611</th>\n",
       "      <td>zt</td>\n",
       "      <td>0.266480</td>\n",
       "      <td>1.0</td>\n",
       "    </tr>\n",
       "    <tr>\n",
       "      <th>11612</th>\n",
       "      <td>zuptas</td>\n",
       "      <td>0.368810</td>\n",
       "      <td>3.0</td>\n",
       "    </tr>\n",
       "    <tr>\n",
       "      <th>11613</th>\n",
       "      <td>zuptoid</td>\n",
       "      <td>0.555190</td>\n",
       "      <td>8.0</td>\n",
       "    </tr>\n",
       "    <tr>\n",
       "      <th>11614</th>\n",
       "      <td>zusman</td>\n",
       "      <td>0.470061</td>\n",
       "      <td>1.0</td>\n",
       "    </tr>\n",
       "    <tr>\n",
       "      <th>11615</th>\n",
       "      <td>zygote</td>\n",
       "      <td>0.465673</td>\n",
       "      <td>6.0</td>\n",
       "    </tr>\n",
       "  </tbody>\n",
       "</table>\n",
       "<p>9170 rows × 3 columns</p>\n",
       "</div>"
      ],
      "text/plain": [
       "           token    weight  occurence\n",
       "0          0bama  0.372088       10.0\n",
       "1         0bamas  0.225272        1.0\n",
       "2          10ins  0.377675        1.0\n",
       "3         11year  0.480528        2.0\n",
       "4      12yearold  0.631296        3.0\n",
       "...          ...       ...        ...\n",
       "11611         zt  0.266480        1.0\n",
       "11612     zuptas  0.368810        3.0\n",
       "11613    zuptoid  0.555190        8.0\n",
       "11614     zusman  0.470061        1.0\n",
       "11615     zygote  0.465673        6.0\n",
       "\n",
       "[9170 rows x 3 columns]"
      ]
     },
     "execution_count": 44,
     "metadata": {},
     "output_type": "execute_result"
    }
   ],
   "source": [
    "not_in_jigsaw_number = vocab_reprod[~vocab_reprod['token'].isin(vocab_jigsaw_number['token'].tolist())]\n",
    "not_in_jigsaw_number"
   ]
  }
 ],
 "metadata": {
  "interpreter": {
   "hash": "49a3e1d03718a75483d59e7098aed45d369cd6c424a1fdf18bcb17a881710a11"
  },
  "kernelspec": {
   "display_name": "Python 3.8.8 ('base')",
   "language": "python",
   "name": "python3"
  },
  "language_info": {
   "codemirror_mode": {
    "name": "ipython",
    "version": 3
   },
   "file_extension": ".py",
   "mimetype": "text/x-python",
   "name": "python",
   "nbconvert_exporter": "python",
   "pygments_lexer": "ipython3",
   "version": "3.8.8"
  },
  "orig_nbformat": 4
 },
 "nbformat": 4,
 "nbformat_minor": 2
}
