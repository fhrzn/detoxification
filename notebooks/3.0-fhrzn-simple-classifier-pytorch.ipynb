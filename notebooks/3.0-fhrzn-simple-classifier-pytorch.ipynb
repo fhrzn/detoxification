{
 "cells": [
  {
   "cell_type": "markdown",
   "metadata": {},
   "source": [
    "## Import Library"
   ]
  },
  {
   "cell_type": "code",
   "execution_count": 1,
   "metadata": {},
   "outputs": [
    {
     "name": "stderr",
     "output_type": "stream",
     "text": [
      "c:\\Users\\fahrizain\\AppData\\Local\\Programs\\Python\\Python38\\lib\\site-packages\\tqdm\\auto.py:22: TqdmWarning: IProgress not found. Please update jupyter and ipywidgets. See https://ipywidgets.readthedocs.io/en/stable/user_install.html\n",
      "  from .autonotebook import tqdm as notebook_tqdm\n",
      "[nltk_data] Downloading package stopwords to\n",
      "[nltk_data]     C:\\Users\\fahrizain\\AppData\\Roaming\\nltk_data...\n",
      "[nltk_data]   Package stopwords is already up-to-date!\n",
      "[nltk_data] Downloading package wordnet to\n",
      "[nltk_data]     C:\\Users\\fahrizain\\AppData\\Roaming\\nltk_data...\n",
      "[nltk_data]   Package wordnet is already up-to-date!\n",
      "[nltk_data] Downloading package omw-1.4 to\n",
      "[nltk_data]     C:\\Users\\fahrizain\\AppData\\Roaming\\nltk_data...\n",
      "[nltk_data]   Package omw-1.4 is already up-to-date!\n"
     ]
    }
   ],
   "source": [
    "import pandas as pd\n",
    "import numpy as np\n",
    "import seaborn as sns\n",
    "import matplotlib.pyplot as plt\n",
    "\n",
    "# pytorch\n",
    "import torch\n",
    "from torch import nn\n",
    "from torch.optim import Adam\n",
    "from torch.utils.data import TensorDataset, DataLoader, WeightedRandomSampler\n",
    "import torch.nn.functional as F\n",
    "\n",
    "# sklearn\n",
    "from sklearn.model_selection import StratifiedShuffleSplit, train_test_split\n",
    "from sklearn.metrics import classification_report, confusion_matrix, precision_score, recall_score, f1_score\n",
    "\n",
    "import contractions\n",
    "import nltk\n",
    "from nltk.tokenize import word_tokenize, sent_tokenize\n",
    "from nltk.corpus import stopwords\n",
    "from nltk.stem.wordnet import WordNetLemmatizer\n",
    "nltk.download('stopwords')\n",
    "nltk.download('wordnet')\n",
    "nltk.download('omw-1.4')\n",
    "\n",
    "import re\n",
    "import string\n",
    "from tqdm import tqdm\n",
    "from collections import Counter\n",
    "\n",
    "import warnings\n",
    "warnings.filterwarnings('ignore')\n",
    "\n",
    "stopwords = set(stopwords.words('english'))"
   ]
  },
  {
   "cell_type": "code",
   "execution_count": 2,
   "metadata": {},
   "outputs": [
    {
     "data": {
      "text/plain": [
       "(159567, 153159)"
      ]
     },
     "execution_count": 2,
     "metadata": {},
     "output_type": "execute_result"
    }
   ],
   "source": [
    "train = pd.read_csv('../data/processed/trainset-feature-extracted.csv')\n",
    "test = pd.read_csv('../data/processed/testset-feature-extracted.csv')\n",
    "len(train), len(test)"
   ]
  },
  {
   "cell_type": "code",
   "execution_count": 3,
   "metadata": {},
   "outputs": [
    {
     "data": {
      "text/plain": [
       "63975"
      ]
     },
     "execution_count": 3,
     "metadata": {},
     "output_type": "execute_result"
    }
   ],
   "source": [
    "test_used = test[test['is_toxic'] >= 0]\n",
    "len(test_used)"
   ]
  },
  {
   "cell_type": "markdown",
   "metadata": {},
   "source": [
    "## Prepare Dataset"
   ]
  },
  {
   "cell_type": "code",
   "execution_count": 4,
   "metadata": {},
   "outputs": [],
   "source": [
    "train_sent = train.processed.tolist()\n",
    "test_sent = test.processed.tolist()"
   ]
  },
  {
   "cell_type": "code",
   "execution_count": 5,
   "metadata": {},
   "outputs": [
    {
     "data": {
      "text/plain": [
       "['explanation',\n",
       " 'edits',\n",
       " 'made',\n",
       " 'username',\n",
       " 'hardcore',\n",
       " 'metallica',\n",
       " 'fan',\n",
       " 'reverted',\n",
       " 'vandalism',\n",
       " 'closure']"
      ]
     },
     "execution_count": 5,
     "metadata": {},
     "output_type": "execute_result"
    }
   ],
   "source": [
    "# get all processed texts\n",
    "sentences = ' '.join(train_sent + test_sent)\n",
    "# obtain list of words\n",
    "words = sentences.split()\n",
    "\n",
    "# check list\n",
    "words[:10]"
   ]
  },
  {
   "cell_type": "code",
   "execution_count": 6,
   "metadata": {},
   "outputs": [],
   "source": [
    "# build vocabulary\n",
    "counter = Counter(words)\n",
    "vocab = sorted(counter, key=counter.get, reverse=True)\n",
    "int2word = dict(enumerate(vocab, 1))\n",
    "int2word[0] = '<PAD>'\n",
    "word2int = {word: id for id, word in int2word.items()}"
   ]
  },
  {
   "cell_type": "code",
   "execution_count": 7,
   "metadata": {},
   "outputs": [
    {
     "data": {
      "text/plain": [
       "63975"
      ]
     },
     "execution_count": 7,
     "metadata": {},
     "output_type": "execute_result"
    }
   ],
   "source": [
    "# filter and replace test set cz some of them aren't used for evaluation\n",
    "test_sent = test_used.processed.to_list()\n",
    "len(test_sent)"
   ]
  },
  {
   "cell_type": "code",
   "execution_count": 8,
   "metadata": {},
   "outputs": [
    {
     "name": "stderr",
     "output_type": "stream",
     "text": [
      "100%|██████████| 159567/159567 [00:02<00:00, 54509.46it/s]\n",
      "100%|██████████| 63975/63975 [00:01<00:00, 54895.59it/s]"
     ]
    },
    {
     "name": "stdout",
     "output_type": "stream",
     "text": [
      "[516, 64, 57, 588, 3978, 8581, 699, 259, 128, 5520]\n",
      "[5521, 1089, 322, 2480, 4319, 2381, 27, 6, 766, 2880]\n",
      "[330, 266, 53, 173, 17, 175, 238, 2209, 408, 390]\n"
     ]
    },
    {
     "name": "stderr",
     "output_type": "stream",
     "text": [
      "\n"
     ]
    }
   ],
   "source": [
    "# encode words\n",
    "train_enc = [[word2int[word] for word in trsent.split()] for trsent in tqdm(train_sent)]\n",
    "test_enc = [[word2int[word] for word in tssent.split()] for tssent in tqdm(test_sent)]\n",
    "\n",
    "# look first 10 words of top-3 encoded sentences\n",
    "for i in range(3):\n",
    "    print(train_enc[i][:10])"
   ]
  },
  {
   "cell_type": "code",
   "execution_count": 9,
   "metadata": {},
   "outputs": [
    {
     "data": {
      "text/plain": [
       "array([[ 516,   64,   57,  588, 3978, 8581,  699,  259,  128, 5520],\n",
       "       [5521, 1089,  322, 2480, 4319, 2381,   27,    6,  766, 2880],\n",
       "       [ 330,  266,   53,  173,   17,  175,  238, 2209,  408,  390]])"
      ]
     },
     "execution_count": 9,
     "metadata": {},
     "output_type": "execute_result"
    }
   ],
   "source": [
    "# padding sequences\n",
    "\n",
    "def pad_features(sentences, pad_id, seq_length=128):\n",
    "    # make a template for output\n",
    "    features = np.full((len(sentences), seq_length), pad_id, dtype=int)\n",
    "\n",
    "    # trim sentence and assign paddings\n",
    "    for i, row in enumerate(sentences):\n",
    "        features[i, :len(row)] = np.array(row)[:seq_length]\n",
    "\n",
    "    return features\n",
    "\n",
    "seq_length = 256\n",
    "\n",
    "# pad features\n",
    "train_features = pad_features(train_enc, pad_id=word2int['<PAD>'], seq_length=seq_length)\n",
    "test_features = pad_features(test_enc, pad_id=word2int['<PAD>'], seq_length=seq_length)\n",
    "\n",
    "assert len(train_features) == len(train_enc)\n",
    "assert len(train_features[0]) == seq_length\n",
    "assert len(test_features) == len(test_enc)\n",
    "assert len(test_features[0]) == seq_length\n",
    "\n",
    "train_features[:3, :10]"
   ]
  },
  {
   "cell_type": "code",
   "execution_count": 10,
   "metadata": {},
   "outputs": [
    {
     "data": {
      "text/plain": [
       "(array([0, 0, 0, ..., 0, 0, 0], dtype=int64),\n",
       " array([0, 0, 0, ..., 0, 1, 0], dtype=int64))"
      ]
     },
     "execution_count": 10,
     "metadata": {},
     "output_type": "execute_result"
    }
   ],
   "source": [
    "# get labels as numpy\n",
    "train_labels = train.is_toxic.to_numpy()\n",
    "test_labels = test_used.is_toxic.to_numpy()\n",
    "train_labels, test_labels"
   ]
  },
  {
   "cell_type": "code",
   "execution_count": 11,
   "metadata": {},
   "outputs": [],
   "source": [
    "# get additional feature\n",
    "train_fe = train.iloc[:, -2:].to_numpy()\n",
    "test_fe = test_used.iloc[:, -2:].to_numpy()"
   ]
  },
  {
   "cell_type": "code",
   "execution_count": 12,
   "metadata": {},
   "outputs": [
    {
     "name": "stdout",
     "output_type": "stream",
     "text": [
      "Feature Shapes:\n",
      "===============\n",
      "Train set: (95740, 256)\n",
      "Validation set: (63827, 256)\n",
      "Test set: (63975, 256)\n"
     ]
    }
   ],
   "source": [
    "# val size\n",
    "val_size = .4\n",
    "\n",
    "# get split index\n",
    "all_idx = np.arange(len(train_features))\n",
    "train_idx, val_idx = train_test_split(all_idx, test_size=val_size, random_state=42, stratify=train_labels)\n",
    "\n",
    "# make train - val set\n",
    "train_features, val_features = train_features[train_idx], train_features[val_idx]\n",
    "train_labels, val_labels = train_labels[train_idx], train_labels[val_idx]\n",
    "train_fe, val_fe = train_fe[train_idx], train_fe[val_idx]\n",
    "\n",
    "# print out the shape\n",
    "print('Feature Shapes:')\n",
    "print('===============')\n",
    "print('Train set: {}'.format(train_features.shape))\n",
    "print('Validation set: {}'.format(val_features.shape))\n",
    "print('Test set: {}'.format(test_features.shape))"
   ]
  },
  {
   "cell_type": "code",
   "execution_count": 13,
   "metadata": {},
   "outputs": [
    {
     "name": "stdout",
     "output_type": "stream",
     "text": [
      "89821 5919\n",
      "59881 3946\n",
      "59574 4401\n"
     ]
    }
   ],
   "source": [
    "# check data split proportion\n",
    "print(len(train_labels[train_labels == 0]), len(train_labels[train_labels == 1]))\n",
    "print(len(val_labels[val_labels == 0]), len(val_labels[val_labels == 1]))\n",
    "print(len(test_labels[test_labels == 0]), len(test_labels[test_labels == 1]))"
   ]
  },
  {
   "cell_type": "code",
   "execution_count": 14,
   "metadata": {},
   "outputs": [],
   "source": [
    "# define batch size\n",
    "batch_size = 128\n",
    "\n",
    "# create tensor datasets\n",
    "trainset = TensorDataset(torch.from_numpy(train_features), torch.from_numpy(train_labels))\n",
    "valset = TensorDataset(torch.from_numpy(val_features), torch.from_numpy(val_labels))\n",
    "testset = TensorDataset(torch.from_numpy(test_features), torch.from_numpy(test_labels))\n",
    "\n",
    "# create dataloaders\n",
    "trainloader = DataLoader(trainset, shuffle=True, batch_size=batch_size)\n",
    "valloader = DataLoader(valset, shuffle=True, batch_size=batch_size)\n",
    "testloader = DataLoader(testset, shuffle=True, batch_size=batch_size)"
   ]
  },
  {
   "cell_type": "code",
   "execution_count": 15,
   "metadata": {},
   "outputs": [
    {
     "name": "stdout",
     "output_type": "stream",
     "text": [
      "Sample batch size:  torch.Size([128, 256])\n",
      "Sample batch input: \n",
      " tensor([[  745,   129,    27,  ...,     0,     0,     0],\n",
      "        [ 1150,    41,     7,  ...,     0,     0,     0],\n",
      "        [   64, 41484,   101,  ...,     0,     0,     0],\n",
      "        ...,\n",
      "        [  973,   422,   129,  ...,     0,     0,     0],\n",
      "        [  165,   331,     2,  ...,     0,     0,     0],\n",
      "        [ 7188,   480,   450,  ...,     0,     0,     0]], dtype=torch.int32)\n",
      "\n",
      "Sample label size:  torch.Size([128])\n",
      "Sample label input: \n",
      " tensor([0, 0, 0, 0, 0, 1, 0, 0, 0, 1, 0, 0, 0, 0, 0, 0, 0, 0, 1, 1, 0, 0, 0, 0,\n",
      "        0, 1, 0, 0, 0, 0, 0, 0, 0, 1, 0, 0, 0, 0, 0, 0, 0, 0, 0, 0, 0, 0, 0, 0,\n",
      "        0, 0, 0, 0, 0, 0, 0, 0, 0, 0, 0, 0, 0, 0, 0, 0, 0, 0, 0, 0, 0, 0, 0, 0,\n",
      "        0, 0, 0, 0, 0, 0, 0, 0, 0, 0, 0, 0, 0, 0, 0, 0, 0, 0, 0, 0, 0, 0, 0, 0,\n",
      "        0, 0, 0, 0, 0, 0, 0, 0, 0, 0, 0, 0, 1, 0, 0, 0, 0, 0, 0, 1, 1, 1, 0, 0,\n",
      "        0, 0, 1, 0, 0, 0, 0, 0])\n"
     ]
    }
   ],
   "source": [
    "# check our batches\n",
    "dataiter = iter(trainloader)\n",
    "X, y = dataiter.next()\n",
    "\n",
    "print('Sample batch size: ', X.size())      # batch_size, seq_length\n",
    "print('Sample batch input: \\n', X)\n",
    "print()\n",
    "print('Sample label size: ', y.size())      # batch_size\n",
    "print('Sample label input: \\n', y)"
   ]
  },
  {
   "cell_type": "markdown",
   "metadata": {},
   "source": [
    "### Oversampling for Handle Imbalance Class"
   ]
  },
  {
   "cell_type": "code",
   "execution_count": 16,
   "metadata": {},
   "outputs": [
    {
     "data": {
      "text/plain": [
       "(11, 11, 11)"
      ]
     },
     "execution_count": 16,
     "metadata": {},
     "output_type": "execute_result"
    }
   ],
   "source": [
    "from collections import Counter\n",
    "\n",
    "dataiter = iter(trainloader)\n",
    "x = np.arange(11)\n",
    "count_pos = []\n",
    "count_neg = []\n",
    "\n",
    "for i, (_, lbl) in enumerate(dataiter):\n",
    "    c = Counter(lbl.numpy())\n",
    "    count_pos.append(c[0])\n",
    "    count_neg.append(c[1])\n",
    "    if i >= 10:\n",
    "        break\n",
    "\n",
    "len(x), len(count_pos), len(count_neg)"
   ]
  },
  {
   "cell_type": "code",
   "execution_count": 17,
   "metadata": {},
   "outputs": [
    {
     "data": {
      "image/png": "[encoded data removed]",
      "text/plain": [
       "<Figure size 576x360 with 1 Axes>"
      ]
     },
     "metadata": {
      "needs_background": "light"
     },
     "output_type": "display_data"
    }
   ],
   "source": [
    "def plot_label_dist(batches, count_pos, count_neg, width=.35, title=None):\n",
    "    width = width\n",
    "    title = title if title != None else 'Sample Label Distribution over First 10 Batch'\n",
    "\n",
    "    fig, ax = plt.subplots(figsize=(8,5))\n",
    "    r1 = ax.bar(batches - width / 2, count_pos, width, label='positive')\n",
    "    r2 = ax.bar(batches + width / 2, count_neg, width, label='negative')\n",
    "\n",
    "    ax.set_ylabel('Count')\n",
    "    ax.set_xlabel('Num Batch')\n",
    "    ax.set_xticks(batches, batches)\n",
    "    ax.set_title(title)\n",
    "    ax.legend()\n",
    "\n",
    "    ax.bar_label(r1, padding=3)\n",
    "    ax.bar_label(r2, padding=3)\n",
    "\n",
    "    fig.tight_layout()\n",
    "    plt.show()\n",
    "\n",
    "plot_label_dist(x, count_pos, count_neg)"
   ]
  },
  {
   "cell_type": "code",
   "execution_count": 18,
   "metadata": {},
   "outputs": [
    {
     "data": {
      "text/plain": [
       "<torch.utils.data.sampler.WeightedRandomSampler at 0x22c76dae550>"
      ]
     },
     "execution_count": 18,
     "metadata": {},
     "output_type": "execute_result"
    }
   ],
   "source": [
    "labels_unique, counts = np.unique(train['is_toxic'], return_counts=True)\n",
    "class_weights = [sum(counts) / c for c in counts]\n",
    "example_weights = [class_weights[e] for e in train['is_toxic']]\n",
    "sampler = WeightedRandomSampler(example_weights, len(train['is_toxic']))\n",
    "sampler"
   ]
  },
  {
   "cell_type": "code",
   "execution_count": 19,
   "metadata": {},
   "outputs": [],
   "source": [
    "# train sampler\n",
    "train_counts = Counter(train_labels).values()\n",
    "train_label_weights = [sum(train_counts) / c for c in train_counts]\n",
    "train_sample_weights = [train_label_weights[e] for e in train_labels]\n",
    "train_sampler = WeightedRandomSampler(train_sample_weights, len(train_labels))\n",
    "\n",
    "# val sampler\n",
    "val_counts = Counter(val_labels).values()\n",
    "val_label_weights = [sum(val_counts) / c for c in val_counts]\n",
    "val_sample_weights = [val_label_weights[e] for e in val_labels]\n",
    "val_sampler = WeightedRandomSampler(val_sample_weights, len(val_labels))"
   ]
  },
  {
   "cell_type": "code",
   "execution_count": 20,
   "metadata": {},
   "outputs": [],
   "source": [
    "# create oversampled dataloaders\n",
    "trainloader = DataLoader(trainset, sampler=train_sampler, batch_size=batch_size)\n",
    "# valloader = DataLoader(valset, sampler=val_sampler, batch_size=batch_size)"
   ]
  },
  {
   "cell_type": "code",
   "execution_count": 21,
   "metadata": {},
   "outputs": [
    {
     "name": "stdout",
     "output_type": "stream",
     "text": [
      "Sample batch size:  torch.Size([128, 256])\n",
      "Sample batch input: \n",
      " tensor([[   182,    104,    304,  ...,      0,      0,      0],\n",
      "        [137999,    227,    168,  ...,      0,      0,      0],\n",
      "        [    11,  36377,     11,  ...,      0,      0,      0],\n",
      "        ...,\n",
      "        [  1053,    872,     12,  ...,      0,      0,      0],\n",
      "        [  2277, 161017,    224,  ...,      0,      0,      0],\n",
      "        [    65,     62,     75,  ...,      0,      0,      0]],\n",
      "       dtype=torch.int32)\n",
      "\n",
      "Sample label size:  torch.Size([128])\n",
      "Sample label input: \n",
      " tensor([0, 1, 1, 1, 1, 1, 0, 0, 1, 1, 0, 0, 1, 1, 0, 0, 0, 1, 0, 1, 1, 0, 0, 0,\n",
      "        0, 1, 0, 1, 1, 0, 1, 1, 0, 1, 1, 0, 0, 1, 0, 0, 0, 0, 1, 1, 1, 1, 1, 1,\n",
      "        1, 0, 1, 1, 0, 0, 0, 1, 1, 0, 1, 1, 1, 1, 1, 1, 0, 1, 1, 0, 1, 0, 1, 1,\n",
      "        0, 1, 1, 1, 1, 0, 0, 1, 1, 1, 0, 1, 1, 1, 0, 1, 0, 0, 1, 0, 1, 1, 1, 1,\n",
      "        1, 0, 0, 1, 1, 0, 1, 0, 0, 1, 0, 1, 0, 1, 1, 0, 1, 1, 0, 1, 1, 1, 0, 0,\n",
      "        0, 0, 1, 0, 1, 1, 0, 1])\n"
     ]
    }
   ],
   "source": [
    "# check our batches\n",
    "dataiter = iter(trainloader)\n",
    "X, y = dataiter.next()\n",
    "\n",
    "print('Sample batch size: ', X.size())      # batch_size, seq_length\n",
    "print('Sample batch input: \\n', X)\n",
    "print()\n",
    "print('Sample label size: ', y.size())      # batch_size\n",
    "print('Sample label input: \\n', y)"
   ]
  },
  {
   "cell_type": "code",
   "execution_count": 22,
   "metadata": {},
   "outputs": [
    {
     "data": {
      "image/png": "[encoded data removed]",
      "text/plain": [
       "<Figure size 576x360 with 1 Axes>"
      ]
     },
     "metadata": {
      "needs_background": "light"
     },
     "output_type": "display_data"
    }
   ],
   "source": [
    "dataiter = iter(trainloader)\n",
    "x = np.arange(11)\n",
    "count_pos = []\n",
    "count_neg = []\n",
    "\n",
    "for i, (_, lbl) in enumerate(dataiter):\n",
    "    c = Counter(lbl.numpy())\n",
    "    count_pos.append(c[0])\n",
    "    count_neg.append(c[1])\n",
    "    if i >= 10:\n",
    "        break\n",
    "\n",
    "plot_label_dist(\n",
    "    x, \n",
    "    count_pos, \n",
    "    count_neg,\n",
    "    title='Sample Train Label Distribution over First 10 Batch')"
   ]
  },
  {
   "cell_type": "code",
   "execution_count": 23,
   "metadata": {},
   "outputs": [
    {
     "data": {
      "image/png": "[encoded data removed]",
      "text/plain": [
       "<Figure size 576x360 with 1 Axes>"
      ]
     },
     "metadata": {
      "needs_background": "light"
     },
     "output_type": "display_data"
    }
   ],
   "source": [
    "dataiter = iter(valloader)\n",
    "count_pos = []\n",
    "count_neg = []\n",
    "\n",
    "for i, (_, lbl) in enumerate(dataiter):\n",
    "    c = Counter(lbl.numpy())\n",
    "    count_pos.append(c[0])\n",
    "    count_neg.append(c[1])\n",
    "    if i >= 10:\n",
    "        break\n",
    "\n",
    "plot_label_dist(\n",
    "    x, \n",
    "    count_pos, \n",
    "    count_neg,\n",
    "    title='Sample Val Label Distribution over First 10 Batch')"
   ]
  },
  {
   "cell_type": "markdown",
   "metadata": {},
   "source": [
    "## Modelling\n",
    "1. Build network architecture\n",
    "2. Define model hyperparameters\n",
    "3. Setup training config\n",
    "4. Write training-validation loop\n",
    "5. Plot Loss\n",
    "6. Inference on test set\n",
    "7. Evaluation metrics"
   ]
  },
  {
   "cell_type": "code",
   "execution_count": 24,
   "metadata": {},
   "outputs": [],
   "source": [
    "# model architecture\n",
    "\n",
    "class ToxicModel(nn.Module):\n",
    "    def __init__(self, vocab_size, output_size, hidden_size=128, embedding_size=300, n_layers=2, dropout=0.2):\n",
    "        super(ToxicModel, self).__init__()\n",
    "\n",
    "        # embedding layer is useful to map input into vector representation\n",
    "        self.embedding = nn.Embedding(vocab_size, embedding_size)\n",
    "\n",
    "        # LSTM layer preserved by PyTorch\n",
    "        self.lstm = nn.LSTM(embedding_size, hidden_size, n_layers, dropout=dropout, batch_first=True)\n",
    "\n",
    "        # dropout layer\n",
    "        self.dropout = nn.Dropout(0.3)\n",
    "\n",
    "        # Linear layer for output\n",
    "        self.fc = nn.Linear(hidden_size, output_size)\n",
    "\n",
    "        # Sigmoid layer cz we will have binary classification\n",
    "        self.sigmoid = nn.Sigmoid()\n",
    "\n",
    "    def forward(self, x):\n",
    "        # convert feature type to long\n",
    "        x = x.long()\n",
    "\n",
    "        # map input to vector\n",
    "        x = self.embedding(x)\n",
    "\n",
    "        # pass forward to lstm\n",
    "        o, _ = self.lstm(x)\n",
    "\n",
    "        # get last sequence output\n",
    "        o = o[:, -1, :]\n",
    "\n",
    "        # apply dropout and fully connected layer\n",
    "        o = self.dropout(o)\n",
    "        o = self.fc(o)\n",
    "\n",
    "        # sigmoid\n",
    "        o = self.sigmoid(o)\n",
    "\n",
    "        return o"
   ]
  },
  {
   "cell_type": "code",
   "execution_count": 25,
   "metadata": {},
   "outputs": [
    {
     "name": "stdout",
     "output_type": "stream",
     "text": [
      "cuda\n"
     ]
    }
   ],
   "source": [
    "# define training device\n",
    "device = torch.device('cuda' if torch.cuda.is_available() else 'cpu')\n",
    "print(device)"
   ]
  },
  {
   "cell_type": "code",
   "execution_count": 26,
   "metadata": {},
   "outputs": [
    {
     "name": "stdout",
     "output_type": "stream",
     "text": [
      "ToxicModel(\n",
      "  (embedding): Embedding(284429, 128)\n",
      "  (lstm): LSTM(128, 128, num_layers=2, batch_first=True, dropout=0.25)\n",
      "  (dropout): Dropout(p=0.3, inplace=False)\n",
      "  (fc): Linear(in_features=128, out_features=1, bias=True)\n",
      "  (sigmoid): Sigmoid()\n",
      ")\n"
     ]
    }
   ],
   "source": [
    "# model hyperparameters\n",
    "vocab_size = len(word2int)\n",
    "output_size = 1\n",
    "embedding_size = 128\n",
    "hidden_size = 128\n",
    "n_layers = 2\n",
    "dropout = 0.25\n",
    "\n",
    "# model initialization\n",
    "model = ToxicModel(vocab_size, output_size, hidden_size, embedding_size, n_layers, dropout)\n",
    "print(model)"
   ]
  },
  {
   "cell_type": "code",
   "execution_count": 27,
   "metadata": {},
   "outputs": [],
   "source": [
    "# training config\n",
    "lr = 0.0005 # 5e-4\n",
    "criterion = nn.BCELoss() # we use BCELoss cz we have binary classification case\n",
    "optim = Adam(model.parameters(), lr=lr)\n",
    "grad_clip = 5\n",
    "epochs = 5\n",
    "print_every = 1\n",
    "history = {\n",
    "    'train_precision': [],\n",
    "    'train_recall': [],\n",
    "    'train_fscore': [],\n",
    "    'train_loss': [],\n",
    "    'train_acc': [],\n",
    "    'val_precision': [],\n",
    "    'val_recall': [],\n",
    "    'val_fscore': [],\n",
    "    'val_loss': [],\n",
    "    'val_acc': [],\n",
    "    'epochs': epochs\n",
    "}\n",
    "es_limit = 5    # early stop"
   ]
  },
  {
   "cell_type": "code",
   "execution_count": 28,
   "metadata": {},
   "outputs": [
    {
     "name": "stderr",
     "output_type": "stream",
     "text": [
      "Training:   0%|          | 0/5 [04:52<?, ?it/s, Val Loss: 0.660 | Val F1: 0.282]"
     ]
    },
    {
     "name": "stdout",
     "output_type": "stream",
     "text": [
      "Epoch 1/5 | Train Loss: 0.661 Train F1: 0.431 | Val Loss: 0.660 Val F1: 0.282\n"
     ]
    },
    {
     "name": "stderr",
     "output_type": "stream",
     "text": [
      "Training:  40%|████      | 2/5 [10:23<15:44, 314.97s/it, Training batch 0/748]           "
     ]
    },
    {
     "name": "stdout",
     "output_type": "stream",
     "text": [
      "Epoch 2/5 | Train Loss: 0.636 Train F1: 0.360 | Val Loss: 0.661 Val F1: 0.105\n",
      "[WARNING] Validation loss did not improved (0.660 --> 0.661)\n"
     ]
    },
    {
     "name": "stderr",
     "output_type": "stream",
     "text": [
      "Training:  40%|████      | 2/5 [15:56<15:44, 314.97s/it, Val Loss: 0.546 | Val F1: 0.293]"
     ]
    },
    {
     "name": "stdout",
     "output_type": "stream",
     "text": [
      "Epoch 3/5 | Train Loss: 0.615 Train F1: 0.504 | Val Loss: 0.546 Val F1: 0.293\n"
     ]
    },
    {
     "name": "stderr",
     "output_type": "stream",
     "text": [
      "Training:  60%|██████    | 3/5 [21:40<10:48, 324.26s/it, Val Loss: 0.245 | Val F1: 0.470]"
     ]
    },
    {
     "name": "stdout",
     "output_type": "stream",
     "text": [
      "Epoch 4/5 | Train Loss: 0.466 Train F1: 0.780 | Val Loss: 0.245 Val F1: 0.470\n"
     ]
    },
    {
     "name": "stderr",
     "output_type": "stream",
     "text": [
      "Training:  80%|████████  | 4/5 [27:24<05:32, 332.04s/it, Val Loss: 0.157 | Val F1: 0.650]"
     ]
    },
    {
     "name": "stdout",
     "output_type": "stream",
     "text": [
      "Epoch 5/5 | Train Loss: 0.166 Train F1: 0.943 | Val Loss: 0.157 Val F1: 0.650\n"
     ]
    },
    {
     "name": "stderr",
     "output_type": "stream",
     "text": [
      "Training: 100%|██████████| 5/5 [27:27<00:00, 329.41s/it, Val Loss: 0.157 | Val F1: 0.650]\n"
     ]
    }
   ],
   "source": [
    "# train loop\n",
    "model = model.to(device)\n",
    "\n",
    "epochloop = tqdm(range(epochs), position=0, desc='Training', leave=True)\n",
    "\n",
    "# early stop trigger\n",
    "es_trigger = 0\n",
    "val_loss_min = torch.inf\n",
    "\n",
    "for e in epochloop:\n",
    "\n",
    "    #################\n",
    "    # training mode #\n",
    "    #################\n",
    "\n",
    "    model.train()\n",
    "\n",
    "    train_loss = 0\n",
    "    train_acc = 0\n",
    "    train_precision = 0\n",
    "    train_recall = 0\n",
    "    train_fscore = 0\n",
    "\n",
    "    for id, (feature, target) in enumerate(trainloader):\n",
    "        # add epoch meta info\n",
    "        epochloop.set_postfix_str(f'Training batch {id}/{len(trainloader)}')\n",
    "\n",
    "        # move to device\n",
    "        feature, target = feature.to(device), target.to(device)\n",
    "\n",
    "        # reset optimizer\n",
    "        optim.zero_grad()\n",
    "\n",
    "        # forward pass\n",
    "        out = model(feature)\n",
    "\n",
    "        # loss\n",
    "        loss = criterion(out.squeeze(), target.float())\n",
    "        train_loss += loss.item()\n",
    "        loss.backward()\n",
    "\n",
    "        # move to cpu to calculate metrics\n",
    "        target = target.cpu().numpy()\n",
    "\n",
    "        # acc\n",
    "        predicted = np.array([1 if i == True else 0 for i in out > 0.5])\n",
    "        equals = predicted == target\n",
    "        acc = np.mean(equals)\n",
    "        train_acc += acc.item()\n",
    "\n",
    "        # precision, recall, f_score\n",
    "        train_precision += precision_score(target, predicted)\n",
    "        train_recall += recall_score(target, predicted)\n",
    "        train_fscore += f1_score(target, predicted)        \n",
    "\n",
    "        # clip grad\n",
    "        nn.utils.clip_grad_norm_(model.parameters(), grad_clip)\n",
    "\n",
    "        # update optimizer\n",
    "        optim.step()\n",
    "\n",
    "        # free some memory\n",
    "        del feature, target, predicted\n",
    "    \n",
    "    history['train_loss'].append(train_loss / len(trainloader))\n",
    "    history['train_acc'].append(train_acc / len(trainloader))\n",
    "    history['train_precision'].append(train_precision / len(trainloader))\n",
    "    history['train_recall'].append(train_recall / len(trainloader))\n",
    "    history['train_fscore'].append(train_fscore / len(trainloader))\n",
    "\n",
    "    ####################\n",
    "    # validation model #\n",
    "    ####################\n",
    "\n",
    "    model.eval()\n",
    "\n",
    "    val_loss = 0\n",
    "    val_acc = 0\n",
    "    val_precision = 0\n",
    "    val_recall = 0\n",
    "    val_fscore = 0\n",
    "\n",
    "    with  torch.no_grad():\n",
    "        for id, (feature, target) in enumerate(valloader):\n",
    "            # add epoch meta info\n",
    "            epochloop.set_postfix_str(f'Validation batch {id}/{len(valloader)}')\n",
    "\n",
    "            # move to device\n",
    "            feature, target = feature.to(device), target.to(device)\n",
    "\n",
    "            # forward pass\n",
    "            out = model(feature)\n",
    "\n",
    "            # loss\n",
    "            loss = criterion(out.squeeze(), target.float())\n",
    "            val_loss += loss.item()\n",
    "\n",
    "            # move to cpu to calculate\n",
    "            target = target.cpu().numpy()\n",
    "\n",
    "            # acc\n",
    "            predicted = np.array([1 if i == True else 0 for i in out > 0.5])\n",
    "            equals = predicted == target\n",
    "            acc = np.mean(equals)\n",
    "            val_acc += acc.item()\n",
    "\n",
    "            # precision, recall, f_score\n",
    "            val_precision += precision_score(target, predicted)\n",
    "            val_recall += recall_score(target, predicted)\n",
    "            val_fscore += f1_score(target, predicted)            \n",
    "\n",
    "            # free some memory\n",
    "            del feature, target, predicted\n",
    "        \n",
    "    history['val_loss'].append(val_loss / len(valloader))\n",
    "    history['val_acc'].append(val_acc / len(valloader))\n",
    "    history['val_precision'].append(val_precision / len(valloader))\n",
    "    history['val_recall'].append(val_recall / len(valloader))\n",
    "    history['val_fscore'].append(val_fscore / len(valloader))\n",
    "\n",
    "    # reset model mode\n",
    "    model.train()\n",
    "\n",
    "    # add epoch meta info\n",
    "    epochloop.set_postfix_str(f'Val Loss: {val_loss / len(valloader):.3f} | Val Recall: {val_recall / len(valloader):.3f}')\n",
    "\n",
    "    # print epoch\n",
    "    if (e+1) % print_every == 0:\n",
    "        epochloop.write(f'Epoch {e+1}/{epochs} | Train Loss: {train_loss / len(trainloader):.3f} Train Recall: {train_recall / len(trainloader):.3f} | Val Loss: {val_loss / len(valloader):.3f} Val Recall: {val_recall / len(valloader):.3f}')\n",
    "\n",
    "    # save model if validation loss decrease\n",
    "    if val_loss / len(valloader) <= val_loss_min:\n",
    "        torch.save(model.state_dict(), '../models/toxic_lstm.pt')\n",
    "        val_loss_min = val_loss / len(valloader)\n",
    "        es_trigger = 0\n",
    "    else:\n",
    "        epochloop.write(f'[WARNING] Validation loss did not improved ({val_loss_min:.3f} --> {val_loss / len(valloader):.3f})')\n",
    "        es_trigger += 1\n",
    "\n",
    "    # force early stop\n",
    "    if es_trigger >= es_limit:\n",
    "        epochloop.write(f'Early stopped at Epoch-{e+1}')\n",
    "        # update epochs history\n",
    "        history['epochs'] = e+1\n",
    "        break"
   ]
  },
  {
   "cell_type": "code",
   "execution_count": 37,
   "metadata": {},
   "outputs": [
    {
     "data": {
      "image/png": "[encoded data removed]",
      "text/plain": [
       "<Figure size 432x576 with 1 Axes>"
      ]
     },
     "metadata": {
      "needs_background": "light"
     },
     "output_type": "display_data"
    }
   ],
   "source": [
    "# plot acc\n",
    "plt.figure(figsize=(6, 8))\n",
    "plt.plot(range(history['epochs']), history['train_acc'], label='Train Acc')\n",
    "plt.plot(range(history['epochs']), history['val_acc'], label='Val Acc')\n",
    "plt.legend()\n",
    "plt.show()"
   ]
  },
  {
   "cell_type": "code",
   "execution_count": 30,
   "metadata": {},
   "outputs": [
    {
     "data": {
      "image/png": "[encoded data removed]",
      "text/plain": [
       "<Figure size 432x576 with 1 Axes>"
      ]
     },
     "metadata": {
      "needs_background": "light"
     },
     "output_type": "display_data"
    }
   ],
   "source": [
    "# plot loss\n",
    "plt.figure(figsize=(6, 8))\n",
    "plt.plot(range(history['epochs']), history['train_loss'], label='Train Loss')\n",
    "plt.plot(range(history['epochs']), history['val_loss'], label='Val Loss')\n",
    "plt.legend()\n",
    "plt.show()"
   ]
  },
  {
   "cell_type": "code",
   "execution_count": 31,
   "metadata": {},
   "outputs": [
    {
     "data": {
      "image/png": "[encoded data removed]",
      "text/plain": [
       "<Figure size 432x576 with 1 Axes>"
      ]
     },
     "metadata": {
      "needs_background": "light"
     },
     "output_type": "display_data"
    }
   ],
   "source": [
    "# plot precision\n",
    "plt.figure(figsize=(6, 8))\n",
    "plt.plot(range(history['epochs']), history['train_precision'], label='Train precision')\n",
    "plt.plot(range(history['epochs']), history['val_precision'], label='Val precision')\n",
    "plt.legend()\n",
    "plt.show()"
   ]
  },
  {
   "cell_type": "code",
   "execution_count": 32,
   "metadata": {},
   "outputs": [
    {
     "data": {
      "image/png": "[encoded data removed]",
      "text/plain": [
       "<Figure size 432x576 with 1 Axes>"
      ]
     },
     "metadata": {
      "needs_background": "light"
     },
     "output_type": "display_data"
    }
   ],
   "source": [
    "# plot recall\n",
    "plt.figure(figsize=(6, 8))\n",
    "plt.plot(range(history['epochs']), history['train_recall'], label='Train recall')\n",
    "plt.plot(range(history['epochs']), history['val_recall'], label='Val recall')\n",
    "plt.legend()\n",
    "plt.show()"
   ]
  },
  {
   "cell_type": "code",
   "execution_count": 33,
   "metadata": {},
   "outputs": [
    {
     "data": {
      "image/png": "[encoded data removed]",
      "text/plain": [
       "<Figure size 432x576 with 1 Axes>"
      ]
     },
     "metadata": {
      "needs_background": "light"
     },
     "output_type": "display_data"
    }
   ],
   "source": [
    "# plot fscore\n",
    "plt.figure(figsize=(6, 8))\n",
    "plt.plot(range(history['epochs']), history['train_fscore'], label='Train F1-score')\n",
    "plt.plot(range(history['epochs']), history['val_fscore'], label='Val F1-score')\n",
    "plt.legend()\n",
    "plt.show()"
   ]
  },
  {
   "cell_type": "markdown",
   "metadata": {},
   "source": [
    "## Inference"
   ]
  },
  {
   "cell_type": "code",
   "execution_count": 34,
   "metadata": {},
   "outputs": [
    {
     "name": "stderr",
     "output_type": "stream",
     "text": [
      "Inference: 100%|██████████| 500/500 [00:59<00:00,  8.46it/s]\n"
     ]
    },
    {
     "name": "stdout",
     "output_type": "stream",
     "text": [
      "Accuracy: 0.8876, Loss: 0.3196\n",
      "Precision: 0.366062002111527\n",
      "Recall: 0.8666212224494433\n",
      "F1 Score: 0.5147098515519568\n"
     ]
    }
   ],
   "source": [
    "# test loop\n",
    "model.eval()\n",
    "\n",
    "# metrics\n",
    "test_loss = 0\n",
    "test_acc = 0\n",
    "test_precision = 0\n",
    "test_recall = 0\n",
    "test_fscore = 0\n",
    "\n",
    "all_target = []\n",
    "all_predicted = []\n",
    "\n",
    "testloop = tqdm(testloader, leave=True, desc='Inference')\n",
    "with torch.no_grad():\n",
    "    for feature, target in testloop:\n",
    "        feature, target = feature.to(device), target.to(device)\n",
    "\n",
    "        out = model(feature)\n",
    "        \n",
    "        loss = criterion(out.squeeze(), target.float())\n",
    "        test_loss += loss.item()\n",
    "\n",
    "        target = target.cpu().numpy()\n",
    "\n",
    "        predicted = np.array([1 if i == True else 0 for i in out > 0.5])\n",
    "        equals = predicted == target\n",
    "        acc = np.mean(equals)\n",
    "        test_acc += acc.item()        \n",
    "\n",
    "        all_target.extend(target)\n",
    "        all_predicted.extend(predicted)\n",
    "\n",
    "    print(f'Accuracy: {test_acc / len(testloader):.4f}, Loss: {test_loss / len(testloader):.4f}')\n",
    "\n",
    "print(f'Precision: {precision_score(all_target, all_predicted)}')\n",
    "print(f'Recall: {recall_score(all_target, all_predicted)}')\n",
    "print(f'F1 Score: {f1_score(all_target, all_predicted)}')"
   ]
  },
  {
   "cell_type": "markdown",
   "metadata": {},
   "source": [
    "## Evaluation Metrics"
   ]
  },
  {
   "cell_type": "code",
   "execution_count": 35,
   "metadata": {},
   "outputs": [
    {
     "name": "stdout",
     "output_type": "stream",
     "text": [
      "              precision    recall  f1-score   support\n",
      "\n",
      "           0       0.89      0.99      0.94     53556\n",
      "           1       0.87      0.37      0.51     10419\n",
      "\n",
      "    accuracy                           0.89     63975\n",
      "   macro avg       0.88      0.68      0.73     63975\n",
      "weighted avg       0.89      0.89      0.87     63975\n",
      "\n"
     ]
    }
   ],
   "source": [
    "print(classification_report(all_predicted, all_target))"
   ]
  },
  {
   "cell_type": "code",
   "execution_count": 36,
   "metadata": {},
   "outputs": [
    {
     "data": {
      "image/png": "[encoded data removed]",
      "text/plain": [
       "<Figure size 504x504 with 2 Axes>"
      ]
     },
     "metadata": {
      "needs_background": "light"
     },
     "output_type": "display_data"
    }
   ],
   "source": [
    "cm = confusion_matrix(all_predicted, all_target)\n",
    "plt.figure(figsize=(7,7))\n",
    "sns.heatmap(cm, annot=True, fmt='g')\n",
    "plt.title('Confusion Matrix')\n",
    "plt.xlabel('Predicted')\n",
    "plt.ylabel('Actual')\n",
    "plt.show()"
   ]
  },
  {
   "cell_type": "code",
   "execution_count": null,
   "metadata": {},
   "outputs": [],
   "source": []
  }
 ],
 "metadata": {
  "kernelspec": {
   "display_name": "Python 3.8.8 64-bit",
   "language": "python",
   "name": "python3"
  },
  "language_info": {
   "codemirror_mode": {
    "name": "ipython",
    "version": 3
   },
   "file_extension": ".py",
   "mimetype": "text/x-python",
   "name": "python",
   "nbconvert_exporter": "python",
   "pygments_lexer": "ipython3",
   "version": "3.8.8"
  },
  "orig_nbformat": 4,
  "vscode": {
   "interpreter": {
    "hash": "d8564a27cb82d73423f8ef7649afe412fe88be26d8d7a10840ebe1fcfca8dcfa"
   }
  }
 },
 "nbformat": 4,
 "nbformat_minor": 2
}
